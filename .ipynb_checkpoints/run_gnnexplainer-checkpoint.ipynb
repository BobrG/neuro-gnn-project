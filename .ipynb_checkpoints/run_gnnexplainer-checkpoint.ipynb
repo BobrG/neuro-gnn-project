{
 "cells": [
  {
   "cell_type": "code",
   "execution_count": 1,
   "id": "f43b430e",
   "metadata": {},
   "outputs": [],
   "source": [
    "import numpy as np\n",
    "import pandas as pd\n",
    "import matplotlib.pyplot as plt\n"
   ]
  },
  {
   "cell_type": "code",
   "execution_count": 2,
   "id": "36a3a474",
   "metadata": {},
   "outputs": [
    {
     "data": {
      "text/html": [
       "<div>\n",
       "<style scoped>\n",
       "    .dataframe tbody tr th:only-of-type {\n",
       "        vertical-align: middle;\n",
       "    }\n",
       "\n",
       "    .dataframe tbody tr th {\n",
       "        vertical-align: top;\n",
       "    }\n",
       "\n",
       "    .dataframe thead th {\n",
       "        text-align: right;\n",
       "    }\n",
       "</style>\n",
       "<table border=\"1\" class=\"dataframe\">\n",
       "  <thead>\n",
       "    <tr style=\"text-align: right;\">\n",
       "      <th></th>\n",
       "      <th>file</th>\n",
       "      <th>ID</th>\n",
       "      <th>target</th>\n",
       "      <th>Sex</th>\n",
       "      <th>L Aud-R Aud</th>\n",
       "      <th>L Aud-Striate</th>\n",
       "      <th>R Aud-Striate</th>\n",
       "      <th>L Aud-L DMN</th>\n",
       "      <th>R Aud-L DMN</th>\n",
       "      <th>Striate-L DMN</th>\n",
       "      <th>...</th>\n",
       "      <th>Broca-R Ant IPS</th>\n",
       "      <th>Sup Front S-R Ant IPS</th>\n",
       "      <th>R TPJ-R Ant IPS</th>\n",
       "      <th>R Pars Op-R Ant IPS</th>\n",
       "      <th>Cereb-R Ant IPS</th>\n",
       "      <th>Dors PCC-R Ant IPS</th>\n",
       "      <th>L Ins-R Ant IPS</th>\n",
       "      <th>Cing-R Ant IPS</th>\n",
       "      <th>R Ins-R Ant IPS</th>\n",
       "      <th>L Ant IPS-R Ant IPS</th>\n",
       "    </tr>\n",
       "  </thead>\n",
       "  <tbody>\n",
       "    <tr>\n",
       "      <th>0</th>\n",
       "      <td>morphometry_A00007409</td>\n",
       "      <td>A00007409</td>\n",
       "      <td>No_Known_Disorder</td>\n",
       "      <td>male</td>\n",
       "      <td>0.852745</td>\n",
       "      <td>0.472408</td>\n",
       "      <td>0.438451</td>\n",
       "      <td>-0.151586</td>\n",
       "      <td>-0.175817</td>\n",
       "      <td>-0.088072</td>\n",
       "      <td>...</td>\n",
       "      <td>0.157520</td>\n",
       "      <td>0.111554</td>\n",
       "      <td>0.024794</td>\n",
       "      <td>0.074087</td>\n",
       "      <td>0.083605</td>\n",
       "      <td>0.332223</td>\n",
       "      <td>0.299678</td>\n",
       "      <td>0.378165</td>\n",
       "      <td>0.238186</td>\n",
       "      <td>0.633913</td>\n",
       "    </tr>\n",
       "    <tr>\n",
       "      <th>1</th>\n",
       "      <td>morphometry_A00031597</td>\n",
       "      <td>A00031597</td>\n",
       "      <td>Schizophrenia_Strict</td>\n",
       "      <td>male</td>\n",
       "      <td>0.748457</td>\n",
       "      <td>0.532091</td>\n",
       "      <td>0.617542</td>\n",
       "      <td>0.090878</td>\n",
       "      <td>0.043540</td>\n",
       "      <td>-0.036074</td>\n",
       "      <td>...</td>\n",
       "      <td>0.374588</td>\n",
       "      <td>0.340460</td>\n",
       "      <td>0.342494</td>\n",
       "      <td>0.249617</td>\n",
       "      <td>0.382124</td>\n",
       "      <td>0.604362</td>\n",
       "      <td>0.168657</td>\n",
       "      <td>0.284299</td>\n",
       "      <td>0.183674</td>\n",
       "      <td>0.626664</td>\n",
       "    </tr>\n",
       "    <tr>\n",
       "      <th>2</th>\n",
       "      <td>morphometry_A00022500</td>\n",
       "      <td>A00022500</td>\n",
       "      <td>Schizophrenia_Strict</td>\n",
       "      <td>female</td>\n",
       "      <td>0.592125</td>\n",
       "      <td>0.036093</td>\n",
       "      <td>0.133537</td>\n",
       "      <td>0.082847</td>\n",
       "      <td>0.179051</td>\n",
       "      <td>0.314248</td>\n",
       "      <td>...</td>\n",
       "      <td>-0.253343</td>\n",
       "      <td>-0.049419</td>\n",
       "      <td>0.103218</td>\n",
       "      <td>-0.098405</td>\n",
       "      <td>-0.106043</td>\n",
       "      <td>0.359292</td>\n",
       "      <td>-0.283070</td>\n",
       "      <td>0.194902</td>\n",
       "      <td>-0.112684</td>\n",
       "      <td>0.582636</td>\n",
       "    </tr>\n",
       "    <tr>\n",
       "      <th>3</th>\n",
       "      <td>morphometry_A00024953</td>\n",
       "      <td>A00024953</td>\n",
       "      <td>Schizophrenia_Strict</td>\n",
       "      <td>male</td>\n",
       "      <td>0.780837</td>\n",
       "      <td>0.354871</td>\n",
       "      <td>0.420179</td>\n",
       "      <td>0.144601</td>\n",
       "      <td>0.208352</td>\n",
       "      <td>0.168114</td>\n",
       "      <td>...</td>\n",
       "      <td>0.190040</td>\n",
       "      <td>-0.012739</td>\n",
       "      <td>-0.038590</td>\n",
       "      <td>0.150418</td>\n",
       "      <td>0.043712</td>\n",
       "      <td>0.165942</td>\n",
       "      <td>-0.003737</td>\n",
       "      <td>0.316817</td>\n",
       "      <td>-0.003129</td>\n",
       "      <td>0.633039</td>\n",
       "    </tr>\n",
       "    <tr>\n",
       "      <th>4</th>\n",
       "      <td>morphometry_A00001251</td>\n",
       "      <td>A00001251</td>\n",
       "      <td>Schizophrenia_Strict</td>\n",
       "      <td>male</td>\n",
       "      <td>0.447026</td>\n",
       "      <td>-0.024045</td>\n",
       "      <td>0.432331</td>\n",
       "      <td>-0.247530</td>\n",
       "      <td>0.113947</td>\n",
       "      <td>0.412405</td>\n",
       "      <td>...</td>\n",
       "      <td>-0.240672</td>\n",
       "      <td>0.271395</td>\n",
       "      <td>-0.054881</td>\n",
       "      <td>0.044233</td>\n",
       "      <td>0.063376</td>\n",
       "      <td>0.387130</td>\n",
       "      <td>0.145573</td>\n",
       "      <td>0.396055</td>\n",
       "      <td>0.112810</td>\n",
       "      <td>0.532662</td>\n",
       "    </tr>\n",
       "  </tbody>\n",
       "</table>\n",
       "<p>5 rows × 745 columns</p>\n",
       "</div>"
      ],
      "text/plain": [
       "                    file         ID                target     Sex  \\\n",
       "0  morphometry_A00007409  A00007409     No_Known_Disorder    male   \n",
       "1  morphometry_A00031597  A00031597  Schizophrenia_Strict    male   \n",
       "2  morphometry_A00022500  A00022500  Schizophrenia_Strict  female   \n",
       "3  morphometry_A00024953  A00024953  Schizophrenia_Strict    male   \n",
       "4  morphometry_A00001251  A00001251  Schizophrenia_Strict    male   \n",
       "\n",
       "   L Aud-R Aud  L Aud-Striate  R Aud-Striate  L Aud-L DMN  R Aud-L DMN  \\\n",
       "0     0.852745       0.472408       0.438451    -0.151586    -0.175817   \n",
       "1     0.748457       0.532091       0.617542     0.090878     0.043540   \n",
       "2     0.592125       0.036093       0.133537     0.082847     0.179051   \n",
       "3     0.780837       0.354871       0.420179     0.144601     0.208352   \n",
       "4     0.447026      -0.024045       0.432331    -0.247530     0.113947   \n",
       "\n",
       "   Striate-L DMN  ...  Broca-R Ant IPS  Sup Front S-R Ant IPS  \\\n",
       "0      -0.088072  ...         0.157520               0.111554   \n",
       "1      -0.036074  ...         0.374588               0.340460   \n",
       "2       0.314248  ...        -0.253343              -0.049419   \n",
       "3       0.168114  ...         0.190040              -0.012739   \n",
       "4       0.412405  ...        -0.240672               0.271395   \n",
       "\n",
       "   R TPJ-R Ant IPS  R Pars Op-R Ant IPS  Cereb-R Ant IPS  Dors PCC-R Ant IPS  \\\n",
       "0         0.024794             0.074087         0.083605            0.332223   \n",
       "1         0.342494             0.249617         0.382124            0.604362   \n",
       "2         0.103218            -0.098405        -0.106043            0.359292   \n",
       "3        -0.038590             0.150418         0.043712            0.165942   \n",
       "4        -0.054881             0.044233         0.063376            0.387130   \n",
       "\n",
       "   L Ins-R Ant IPS  Cing-R Ant IPS  R Ins-R Ant IPS  L Ant IPS-R Ant IPS  \n",
       "0         0.299678        0.378165         0.238186             0.633913  \n",
       "1         0.168657        0.284299         0.183674             0.626664  \n",
       "2        -0.283070        0.194902        -0.112684             0.582636  \n",
       "3        -0.003737        0.316817        -0.003129             0.633039  \n",
       "4         0.145573        0.396055         0.112810             0.532662  \n",
       "\n",
       "[5 rows x 745 columns]"
      ]
     },
     "execution_count": 2,
     "metadata": {},
     "output_type": "execute_result"
    }
   ],
   "source": [
    "data = pd.read_csv('./datasets/func_conn.csv')\n",
    "data.head()"
   ]
  },
  {
   "cell_type": "code",
   "execution_count": 3,
   "id": "d291e552",
   "metadata": {},
   "outputs": [
    {
     "data": {
      "text/plain": [
       "38"
      ]
     },
     "execution_count": 3,
     "metadata": {},
     "output_type": "execute_result"
    }
   ],
   "source": [
    "len([col for col in data.columns if 'L Aud' in col])"
   ]
  },
  {
   "cell_type": "code",
   "execution_count": 4,
   "id": "af554fa9",
   "metadata": {},
   "outputs": [
    {
     "data": {
      "text/plain": [
       "38"
      ]
     },
     "execution_count": 4,
     "metadata": {},
     "output_type": "execute_result"
    }
   ],
   "source": [
    "len([col for col in data.columns if 'Striate' in col])"
   ]
  },
  {
   "cell_type": "code",
   "execution_count": 5,
   "id": "bc5fb39c",
   "metadata": {},
   "outputs": [
    {
     "data": {
      "text/plain": [
       "39"
      ]
     },
     "execution_count": 5,
     "metadata": {},
     "output_type": "execute_result"
    }
   ],
   "source": [
    "vertices_names = set()\n",
    "[[vertices_names.add(val) for val in col.split('-')] for col in data.columns[4:]];\n",
    "len(vertices_names)"
   ]
  },
  {
   "cell_type": "code",
   "execution_count": 6,
   "id": "5e006f60",
   "metadata": {},
   "outputs": [],
   "source": [
    "# connectivity_mat = np.zeros((len(vertices_names), len(vertices_names)))\n",
    "names_map = {val: i for i, val in enumerate(vertices_names)}"
   ]
  },
  {
   "cell_type": "code",
   "execution_count": 7,
   "id": "cbec2bdb",
   "metadata": {},
   "outputs": [],
   "source": [
    "patient_0 = pd.DataFrame(data.iloc[0]).T"
   ]
  },
  {
   "cell_type": "code",
   "execution_count": 8,
   "id": "7b8b09e2",
   "metadata": {},
   "outputs": [],
   "source": [
    "def get_adjmat(patient):\n",
    "    connectivity_mat = np.zeros((len(vertices_names), len(vertices_names)))\n",
    "    for name1 in names_map.keys():\n",
    "        for name2 in names_map.keys():\n",
    "            col_name = f'{name1}-{name2}'\n",
    "            \n",
    "            connectivity_mat[names_map[name1]][names_map[name2]] = patient[col_name] if col_name in patient.columns else 0.0\n",
    "    return connectivity_mat"
   ]
  },
  {
   "cell_type": "code",
   "execution_count": 9,
   "id": "d11e3ada",
   "metadata": {},
   "outputs": [],
   "source": [
    "connectivity_mat = get_adjmat(patient_0)"
   ]
  },
  {
   "cell_type": "code",
   "execution_count": 10,
   "id": "a507decf",
   "metadata": {
    "scrolled": true
   },
   "outputs": [
    {
     "data": {
      "text/plain": [
       "<matplotlib.image.AxesImage at 0x7fb11f08b210>"
      ]
     },
     "execution_count": 10,
     "metadata": {},
     "output_type": "execute_result"
    },
    {
     "data": {
      "image/png": "[encoded data removed]",
      "text/plain": [
       "<Figure size 432x288 with 1 Axes>"
      ]
     },
     "metadata": {
      "needs_background": "light"
     },
     "output_type": "display_data"
    }
   ],
   "source": [
    "plt.imshow(connectivity_mat)"
   ]
  },
  {
   "cell_type": "code",
   "execution_count": 11,
   "id": "05b00742",
   "metadata": {},
   "outputs": [],
   "source": [
    "with open('./datasets/Schiza.txt', 'w') as f:\n",
    "    for name in names_map.values():\n",
    "        f.write(f'0\\t0\\t0\\t{name}\\t0\\tregion_name\\n')\n",
    "    "
   ]
  },
  {
   "cell_type": "code",
   "execution_count": 12,
   "id": "e439743d",
   "metadata": {},
   "outputs": [],
   "source": [
    "labels = data['target']"
   ]
  },
  {
   "cell_type": "code",
   "execution_count": 13,
   "id": "7ffe1af5",
   "metadata": {
    "scrolled": true
   },
   "outputs": [
    {
     "data": {
      "text/plain": [
       "array(['No_Known_Disorder', 'Schizoaffective', 'Schizophrenia_Strict'],\n",
       "      dtype=object)"
      ]
     },
     "execution_count": 13,
     "metadata": {},
     "output_type": "execute_result"
    }
   ],
   "source": [
    "np.unique(labels)"
   ]
  },
  {
   "cell_type": "code",
   "execution_count": 14,
   "id": "50480dbc",
   "metadata": {},
   "outputs": [],
   "source": [
    "data_schizastrict = data.drop(data[data['target'] == 'Schizoaffective'].index, axis='index')"
   ]
  },
  {
   "cell_type": "code",
   "execution_count": 15,
   "id": "1093ecf1",
   "metadata": {},
   "outputs": [],
   "source": [
    "labels_schizastrict = data_schizastrict['target']"
   ]
  },
  {
   "cell_type": "code",
   "execution_count": 16,
   "id": "215efd3a",
   "metadata": {},
   "outputs": [],
   "source": [
    "labels_bin = [1. if ('Schizo' in l) else 0. for l in labels_schizastrict]"
   ]
  },
  {
   "cell_type": "code",
   "execution_count": 61,
   "id": "fb074aeb",
   "metadata": {},
   "outputs": [],
   "source": [
    "connectivity_data = np.asarray(list([get_adjmat(pd.DataFrame(data_schizastrict.iloc[i]).T) for i in range(data_schizastrict.shape[0])]))\n"
   ]
  },
  {
   "cell_type": "code",
   "execution_count": 62,
   "id": "898486f5",
   "metadata": {},
   "outputs": [
    {
     "data": {
      "text/plain": [
       "(152, 39, 39)"
      ]
     },
     "execution_count": 62,
     "metadata": {},
     "output_type": "execute_result"
    }
   ],
   "source": [
    "connectivity_data.shape"
   ]
  },
  {
   "cell_type": "code",
   "execution_count": 65,
   "id": "226a47cf",
   "metadata": {},
   "outputs": [],
   "source": [
    "from scipy.io import savemat, loadmat"
   ]
  },
  {
   "cell_type": "code",
   "execution_count": 66,
   "id": "82b0d6b9",
   "metadata": {},
   "outputs": [],
   "source": [
    "savemat('./datasets/schiza.mat', {'label': labels_bin, 'dti': connectivity_data.T})"
   ]
  },
  {
   "cell_type": "code",
   "execution_count": 67,
   "id": "1dddb2e0",
   "metadata": {
    "scrolled": true
   },
   "outputs": [
    {
     "data": {
      "text/plain": [
       "{'__header__': b'MATLAB 5.0 MAT-file Platform: posix, Created on: Fri Oct 21 11:08:01 2022',\n",
       " '__version__': '1.0',\n",
       " '__globals__': [],\n",
       " 'label': array([[0., 1., 1., 1., 1., 0., 1., 0., 0., 1., 1., 0., 1., 0., 1., 1.,\n",
       "         0., 1., 0., 1., 1., 1., 1., 1., 0., 1., 0., 0., 0., 1., 1., 1.,\n",
       "         1., 1., 0., 0., 0., 1., 0., 1., 1., 0., 0., 1., 0., 0., 0., 0.,\n",
       "         0., 1., 1., 1., 1., 1., 1., 0., 1., 1., 1., 0., 0., 0., 1., 0.,\n",
       "         1., 1., 1., 0., 1., 0., 0., 0., 0., 1., 0., 0., 0., 0., 1., 1.,\n",
       "         0., 0., 0., 0., 0., 1., 0., 0., 1., 1., 0., 1., 1., 1., 1., 0.,\n",
       "         1., 1., 0., 0., 1., 1., 0., 0., 0., 1., 0., 0., 0., 1., 1., 0.,\n",
       "         0., 1., 1., 1., 1., 1., 1., 1., 0., 0., 1., 0., 1., 1., 1., 1.,\n",
       "         0., 1., 0., 0., 0., 0., 0., 0., 1., 0., 0., 1., 0., 0., 1., 1.,\n",
       "         0., 0., 1., 0., 0., 0., 1., 0.]]),\n",
       " 'dti': array([[[ 0.        ,  0.        ,  0.        , ...,  0.        ,\n",
       "           0.        ,  0.        ],\n",
       "         [ 0.        ,  0.        ,  0.        , ...,  0.        ,\n",
       "           0.        ,  0.        ],\n",
       "         [ 0.        ,  0.        ,  0.        , ...,  0.        ,\n",
       "           0.        ,  0.        ],\n",
       "         ...,\n",
       "         [ 0.        ,  0.        ,  0.        , ...,  0.        ,\n",
       "           0.        ,  0.        ],\n",
       "         [ 0.        ,  0.        ,  0.        , ...,  0.        ,\n",
       "           0.        ,  0.        ],\n",
       "         [ 0.        ,  0.        ,  0.        , ...,  0.        ,\n",
       "           0.        ,  0.        ]],\n",
       " \n",
       "        [[ 0.24308892,  0.15553397,  0.05621146, ...,  0.16197575,\n",
       "           0.12192385, -0.05422044],\n",
       "         [ 0.        ,  0.        ,  0.        , ...,  0.        ,\n",
       "           0.        ,  0.        ],\n",
       "         [ 0.18270552,  0.39126049,  0.40474867, ...,  0.36239577,\n",
       "           0.22555192,  0.26103367],\n",
       "         ...,\n",
       "         [ 0.        ,  0.        ,  0.        , ...,  0.        ,\n",
       "           0.        ,  0.        ],\n",
       "         [-0.27843199,  0.20443347,  0.46437205, ...,  0.42080286,\n",
       "           0.11067738, -0.00904769],\n",
       "         [-0.19674543, -0.00511153, -0.32630347, ...,  0.10411972,\n",
       "           0.00461497,  0.02817731]],\n",
       " \n",
       "        [[ 0.43475753,  0.37666596,  0.0518954 , ...,  0.68695274,\n",
       "           0.39021419,  0.02903961],\n",
       "         [ 0.        ,  0.        ,  0.        , ...,  0.        ,\n",
       "           0.        ,  0.        ],\n",
       "         [ 0.        ,  0.        ,  0.        , ...,  0.        ,\n",
       "           0.        ,  0.        ],\n",
       "         ...,\n",
       "         [ 0.        ,  0.        ,  0.        , ...,  0.        ,\n",
       "           0.        ,  0.        ],\n",
       "         [ 0.        ,  0.        ,  0.        , ...,  0.        ,\n",
       "           0.        ,  0.        ],\n",
       "         [ 0.        ,  0.        ,  0.        , ...,  0.        ,\n",
       "           0.        ,  0.        ]],\n",
       " \n",
       "        ...,\n",
       " \n",
       "        [[ 0.23454549,  0.27712103, -0.04212374, ...,  0.21558147,\n",
       "          -0.21421522,  0.00967907],\n",
       "         [ 0.767235  ,  0.64775602,  0.77975859, ...,  0.76508112,\n",
       "           0.47672538,  0.70327685],\n",
       "         [ 0.11271576,  0.33867613,  0.43545147, ...,  0.46947084,\n",
       "           0.17354129,  0.04762498],\n",
       "         ...,\n",
       "         [ 0.        ,  0.        ,  0.        , ...,  0.        ,\n",
       "           0.        ,  0.        ],\n",
       "         [-0.25555815,  0.26867139,  0.56530951, ...,  0.42334218,\n",
       "           0.30285313,  0.18802331],\n",
       "         [-0.10199188, -0.10167004, -0.35093908, ..., -0.12122686,\n",
       "          -0.01207018,  0.23315208]],\n",
       " \n",
       "        [[ 0.14947124,  0.251867  , -0.02407632, ...,  0.34683444,\n",
       "          -0.0755668 ,  0.35685438],\n",
       "         [ 0.        ,  0.        ,  0.        , ...,  0.        ,\n",
       "           0.        ,  0.        ],\n",
       "         [ 0.25143291,  0.32751034,  0.49812589, ...,  0.62163883,\n",
       "           0.43670019,  0.02481206],\n",
       "         ...,\n",
       "         [ 0.        ,  0.        ,  0.        , ...,  0.        ,\n",
       "           0.        ,  0.        ],\n",
       "         [ 0.        ,  0.        ,  0.        , ...,  0.        ,\n",
       "           0.        ,  0.        ],\n",
       "         [ 0.10456041,  0.17310393, -0.14068689, ..., -0.11265847,\n",
       "           0.55333868,  0.29630599]],\n",
       " \n",
       "        [[-0.05298607,  0.05607925,  0.03471957, ...,  0.0081462 ,\n",
       "           0.08989011,  0.15012287],\n",
       "         [ 0.        ,  0.        ,  0.        , ...,  0.        ,\n",
       "           0.        ,  0.        ],\n",
       "         [ 0.12423098,  0.14933422, -0.11913519, ..., -0.04400602,\n",
       "           0.38003266,  0.00257871],\n",
       "         ...,\n",
       "         [ 0.        ,  0.        ,  0.        , ...,  0.        ,\n",
       "           0.        ,  0.        ],\n",
       "         [ 0.        ,  0.        ,  0.        , ...,  0.        ,\n",
       "           0.        ,  0.        ],\n",
       "         [ 0.        ,  0.        ,  0.        , ...,  0.        ,\n",
       "           0.        ,  0.        ]]])}"
      ]
     },
     "execution_count": 67,
     "metadata": {},
     "output_type": "execute_result"
    }
   ],
   "source": [
    "loadmat('./datasets/schiza.mat')"
   ]
  },
  {
   "cell_type": "code",
   "execution_count": 69,
   "id": "55618d77",
   "metadata": {},
   "outputs": [
    {
     "name": "stdout",
     "output_type": "stream",
     "text": [
      "Looking in links: https://data.pyg.org/whl/torch-{torch.__version__}.html\n",
      "Collecting torch_sparse\n",
      "  Downloading torch_sparse-0.6.15.tar.gz (2.1 MB)\n",
      "\u001b[2K     \u001b[90m━━━━━━━━━━━━━━━━━━━━━━━━━━━━━━━━━━━━━━━━\u001b[0m \u001b[32m2.1/2.1 MB\u001b[0m \u001b[31m10.0 MB/s\u001b[0m eta \u001b[36m0:00:00\u001b[0m \u001b[36m0:00:01\u001b[0m\n",
      "\u001b[?25h  Preparing metadata (setup.py) ... \u001b[?25ldone\n",
      "\u001b[?25hRequirement already satisfied: scipy in /opt/conda/lib/python3.7/site-packages (from torch_sparse) (1.7.3)\n",
      "Requirement already satisfied: numpy<1.23.0,>=1.16.5 in /opt/conda/lib/python3.7/site-packages (from scipy->torch_sparse) (1.21.5)\n",
      "Building wheels for collected packages: torch_sparse\n",
      "  Building wheel for torch_sparse (setup.py) ... \u001b[?25l|"
     ]
    }
   ],
   "source": [
    "!pip install --no-cache-dir torch_sparse -f https://data.pyg.org/whl/torch-{torch.__version__}.html"
   ]
  },
  {
   "cell_type": "code",
   "execution_count": 68,
   "id": "4731fba5",
   "metadata": {
    "scrolled": true
   },
   "outputs": [
    {
     "name": "stdout",
     "output_type": "stream",
     "text": [
      "Traceback (most recent call last):\r\n",
      "  File \"main_explainer.py\", line 10, in <module>\r\n",
      "    from torch_geometric.data import DataLoader\r\n",
      "  File \"/opt/conda/lib/python3.7/site-packages/torch_geometric/__init__.py\", line 4, in <module>\r\n",
      "    import torch_geometric.data\r\n",
      "  File \"/opt/conda/lib/python3.7/site-packages/torch_geometric/data/__init__.py\", line 1, in <module>\r\n",
      "    from .data import Data\r\n",
      "  File \"/opt/conda/lib/python3.7/site-packages/torch_geometric/data/data.py\", line 20, in <module>\r\n",
      "    from torch_sparse import SparseTensor\r\n",
      "ModuleNotFoundError: No module named 'torch_sparse'\r\n"
     ]
    }
   ],
   "source": [
    "!cd ./IBGNN && python main_explainer.py --dataset_name=schiza --explain"
   ]
  },
  {
   "cell_type": "code",
   "execution_count": null,
   "id": "5a6cb773",
   "metadata": {},
   "outputs": [],
   "source": []
  }
 ],
 "metadata": {
  "kernelspec": {
   "display_name": "Python 3 (ipykernel)",
   "language": "python",
   "name": "python3"
  },
  "language_info": {
   "codemirror_mode": {
    "name": "ipython",
    "version": 3
   },
   "file_extension": ".py",
   "mimetype": "text/x-python",
   "name": "python",
   "nbconvert_exporter": "python",
   "pygments_lexer": "ipython3",
   "version": "3.7.13"
  }
 },
 "nbformat": 4,
 "nbformat_minor": 5
}
